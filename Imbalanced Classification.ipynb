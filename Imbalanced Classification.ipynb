{
 "cells": [
  {
   "cell_type": "code",
   "execution_count": 1,
   "id": "c4ad94ab",
   "metadata": {},
   "outputs": [],
   "source": [
    "import tensorflow as tf\n",
    "import pickle\n",
    "import numpy as np\n",
    "import pandas as pd\n",
    "import pickle"
   ]
  },
  {
   "cell_type": "code",
   "execution_count": 2,
   "id": "80870e33",
   "metadata": {},
   "outputs": [
    {
     "name": "stdout",
     "output_type": "stream",
     "text": [
      "2.6.0\n"
     ]
    }
   ],
   "source": [
    "print(tf.__version__)"
   ]
  },
  {
   "cell_type": "code",
   "execution_count": 3,
   "id": "02a71c4d",
   "metadata": {},
   "outputs": [],
   "source": [
    "generated = pickle.load( open( \"./sample_files/generated.pickle\", \"rb\" ) )\n",
    "x_trains = pickle.load( open( \"./sample_files/x_trains_subset_positive_reviews.pickle\", \"rb\" ) )\n",
    "y_trains = pickle.load( open( \"./sample_files/y_trains_subset_positive_labels.pickle\", \"rb\" ))\n",
    "x_train0 = pickle.load( open( \"./sample_files/x_train0_negative_reviews.pickle\", \"rb\" ))\n",
    "y_train0 = pickle.load( open( \"./sample_files/y_train0_negative_labels.pickle\", \"rb\" ))"
   ]
  },
  {
   "cell_type": "code",
   "execution_count": 4,
   "id": "388eeb40",
   "metadata": {},
   "outputs": [
    {
     "data": {
      "text/plain": [
       "(list, (6250, 1))"
      ]
     },
     "execution_count": 4,
     "metadata": {},
     "output_type": "execute_result"
    }
   ],
   "source": [
    "type(generated), x_trains.shape"
   ]
  },
  {
   "cell_type": "code",
   "execution_count": 5,
   "id": "1eee72e3",
   "metadata": {},
   "outputs": [
    {
     "data": {
      "text/plain": [
       "\"the same person does a great author roland go about not unthurming in fact from the end of more it's just doing soliday forces her to catch me aher 3 and his purshe doommates sandler's lily richardson who are supposed directed to childhood to bring characterization with a gunaumod on the flock notable are the best comedy that captures to check he played her dandy wears not being a bit more hamr but in her episoning them in fuction desire kept a sleazy sniper who is beautiful and an aflabiane only to make his life for native personality john forlive name school the entire cameo from the drunken a russian norman the black f the decade and she took apparently now what's great here this is always hard to feel like an the that would be inore i've have seen it again and way and we're a good aspect of the crowd it's nronse for yourself why i suppose this as engaging with the way i'm bad for years set at the cinematography by a brave tv series and absurdish floray and fully attached to reconcy on\""
      ]
     },
     "execution_count": 5,
     "metadata": {},
     "output_type": "execute_result"
    }
   ],
   "source": [
    "generated[0]"
   ]
  },
  {
   "cell_type": "code",
   "execution_count": 6,
   "id": "caee04d3",
   "metadata": {},
   "outputs": [],
   "source": [
    "## Apply squeeze() to x_trains, y_trains, x_train0, y_train0 to get rid of extra dimensions\n",
    "x_trains = x_trains.squeeze()\n",
    "y_trains = y_trains.squeeze()\n",
    "x_train0 = x_train0.squeeze()\n",
    "y_train0 = y_train0.squeeze()"
   ]
  },
  {
   "cell_type": "code",
   "execution_count": 7,
   "id": "5b4ac35e",
   "metadata": {},
   "outputs": [
    {
     "data": {
      "text/plain": [
       "(6250,)"
      ]
     },
     "execution_count": 7,
     "metadata": {},
     "output_type": "execute_result"
    }
   ],
   "source": [
    "x_trains.shape"
   ]
  },
  {
   "cell_type": "code",
   "execution_count": 8,
   "id": "97ca9c8f",
   "metadata": {},
   "outputs": [
    {
     "data": {
      "text/plain": [
       "6250"
      ]
     },
     "execution_count": 8,
     "metadata": {},
     "output_type": "execute_result"
    }
   ],
   "source": [
    "len(x_trains)"
   ]
  },
  {
   "cell_type": "code",
   "execution_count": 9,
   "id": "e0656a2c",
   "metadata": {},
   "outputs": [
    {
     "data": {
      "text/plain": [
       "'<START> actually this movie was not so bad it contains action comedy and excitement there are good actors in this film for instance doug hutchison percy from the green mile who plays bristol another well known actor is jamie kennedy from scream and three kings the main characters are played by jamie foxx as alvin who was pretty good and also funny but the one who most surprised me was david morse as edgar clenteen he plays a different character than he usually does because in other films like the green mile indian runner the negotiator or the langoliers he plays a very sympathetic person and in bait the plays almost the opposite a man without any emotions which was nice to see the only really negative thing about this film are the several pictures of the world trade center which makes this film perhaps look a little dated overall i thought this was a pretty good little film'"
      ]
     },
     "execution_count": 9,
     "metadata": {},
     "output_type": "execute_result"
    }
   ],
   "source": [
    "word_index = tf.keras.datasets.imdb.get_word_index()\n",
    "# These indices are reserved\n",
    "word_index = {k:(v+3) for k,v in word_index.items()} \n",
    "word_index[\"<PAD>\"] = 0\n",
    "word_index[\"<START>\"] = 1\n",
    "word_index[\"<UNK>\"] = 2  # unknown\n",
    "word_index[\"<UNUSED>\"] = 3\n",
    "\n",
    "reverse_word_index = dict([(value, key) for (key, value) in word_index.items()])\n",
    "\n",
    "def decode_review(text):\n",
    "    return ' '.join([reverse_word_index.get(i, '?') for i in text])\n",
    "\n",
    "decode_review(x_trains[0])"
   ]
  },
  {
   "cell_type": "code",
   "execution_count": 10,
   "id": "78d3e0e5",
   "metadata": {},
   "outputs": [],
   "source": [
    "#Remove reserved token in subset positive reviews\n",
    "for record in x_trains:\n",
    "    record.pop(0)"
   ]
  },
  {
   "cell_type": "code",
   "execution_count": 11,
   "id": "ec3528d9",
   "metadata": {},
   "outputs": [],
   "source": [
    "#Remove reserved token in all negative reviews\n",
    "for record in x_train0:\n",
    "     record.pop(0)"
   ]
  },
  {
   "cell_type": "code",
   "execution_count": 12,
   "id": "09451492",
   "metadata": {},
   "outputs": [],
   "source": [
    "reviews_np = np.concatenate((x_trains, x_train0), axis=None) # axis = None is same as axis=0  followed by squeeze()"
   ]
  },
  {
   "cell_type": "code",
   "execution_count": 13,
   "id": "85d8eae7",
   "metadata": {},
   "outputs": [],
   "source": [
    "plain_text_holder = []\n",
    "for review in reviews_np:\n",
    "    plain_text = decode_review(review)\n",
    "    plain_text_holder.append(plain_text)"
   ]
  },
  {
   "cell_type": "code",
   "execution_count": 14,
   "id": "f8074023",
   "metadata": {},
   "outputs": [],
   "source": [
    "all_training_text = generated + plain_text_holder"
   ]
  },
  {
   "cell_type": "code",
   "execution_count": 15,
   "id": "2c196d6d",
   "metadata": {},
   "outputs": [
    {
     "data": {
      "text/plain": [
       "list"
      ]
     },
     "execution_count": 15,
     "metadata": {},
     "output_type": "execute_result"
    }
   ],
   "source": [
    "#Now original reviews and generated reviews are combined in a list, tokenize this list at the character level.\n",
    "type(all_training_text)"
   ]
  },
  {
   "cell_type": "code",
   "execution_count": 16,
   "id": "47cc1adf",
   "metadata": {},
   "outputs": [],
   "source": [
    "with open('all_train_text.pkl', 'wb') as myfile:\n",
    "    pickle.dump(all_training_text, myfile)"
   ]
  },
  {
   "cell_type": "code",
   "execution_count": 17,
   "id": "b241309e",
   "metadata": {},
   "outputs": [],
   "source": [
    "y_trains_generated = y_trains[:len(generated)]\n",
    "y_train_assembled = np.concatenate((y_trains_generated, y_trains, y_train0), axis = None)\n",
    "np.save('y_train_assembled.npy', y_train_assembled)\n",
    "# FYI. This is how you will load this array\n",
    "with open('y_train_assembled.npy', 'rb') as f:\n",
    "    a = np.load(f)\n",
    "\n",
    "with open('all_train_text.pkl', 'rb') as f:\n",
    "    b = pickle.load(f)"
   ]
  }
 ],
 "metadata": {
  "kernelspec": {
   "display_name": "Python 3 (ipykernel)",
   "language": "python",
   "name": "python3"
  },
  "language_info": {
   "codemirror_mode": {
    "name": "ipython",
    "version": 3
   },
   "file_extension": ".py",
   "mimetype": "text/x-python",
   "name": "python",
   "nbconvert_exporter": "python",
   "pygments_lexer": "ipython3",
   "version": "3.9.7"
  }
 },
 "nbformat": 4,
 "nbformat_minor": 5
}
